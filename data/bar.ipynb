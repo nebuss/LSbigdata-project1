{
  "cells": [
    {
      "cell_type": "markdown",
      "metadata": {},
      "source": [
        "!pip install yaml\n"
      ],
      "id": "7f7c091e"
    },
    {
      "cell_type": "code",
      "metadata": {},
      "source": [
        "import pandas as pd\n",
        "import seaborn as sns\n",
        "import matplotlib.pyplot as plt\n",
        "mpg = pd.read_csv('data/mpg.csv')\n",
        "\n",
        "df_mpg = mpg.groupby('drv', as_index = False) \\\n",
        "            .agg(n = ('drv', 'count'))\n",
        "\n",
        "df_mpg             "
      ],
      "id": "1035e6af",
      "execution_count": null,
      "outputs": []
    },
    {
      "cell_type": "markdown",
      "metadata": {},
      "source": [
        "# sns.barplot"
      ],
      "id": "d669ac8d"
    },
    {
      "cell_type": "code",
      "metadata": {},
      "source": [
        "sns.barplot(data= df_mpg, x = 'drv', y='n')\n",
        "plt.show()"
      ],
      "id": "f23d6e6b",
      "execution_count": null,
      "outputs": []
    },
    {
      "cell_type": "markdown",
      "metadata": {},
      "source": [
        "# sns.countplot\n"
      ],
      "id": "4ab1a813"
    },
    {
      "cell_type": "code",
      "metadata": {},
      "source": [
        "sns.countplot(data= mpg, x='drv')\n",
        "plt.show()"
      ],
      "id": "2155ecf1",
      "execution_count": null,
      "outputs": []
    }
  ],
  "metadata": {
    "kernelspec": {
      "name": "python3",
      "language": "python",
      "display_name": "Python 3 (ipykernel)"
    }
  },
  "nbformat": 4,
  "nbformat_minor": 5
}